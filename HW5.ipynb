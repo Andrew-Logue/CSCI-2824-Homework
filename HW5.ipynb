{
 "cells": [
  {
   "cell_type": "code",
   "execution_count": 24,
   "metadata": {},
   "outputs": [
    {
     "name": "stdout",
     "output_type": "stream",
     "text": [
      "[True, True, True, True, True, True, True, True, True, False, True, True, True, True, True, False, True, True, True, True, True, False]\n",
      "test\n",
      "test\n",
      "test\n",
      "test\n",
      "test\n",
      "test\n",
      "test\n",
      "test\n",
      "test\n"
     ]
    },
    {
     "data": {
      "text/plain": [
       "[2, 3, 5, 7, 11, 13, 17, 19]"
      ]
     },
     "execution_count": 24,
     "metadata": {},
     "output_type": "execute_result"
    }
   ],
   "source": [
    "# Andrew Logue\n",
    "# CSCI 2824\n",
    "\n",
    "def goldbachCheck(N):\n",
    "    #initialize variables\n",
    "    index = 0;\n",
    "    primes = [];\n",
    "    \n",
    "    #get all prime numbers within range of 4 to N\n",
    "    for num in range(2, N):  \n",
    "        for i in range(2, num):  \n",
    "            if (num % i) == 0:  \n",
    "                break  \n",
    "        else:  \n",
    "            primes.append(num);\n",
    "    \n",
    "    while (primes[index]): \n",
    "        #subtract current prime from n to get differnece\n",
    "        dif = N - primes[index]; \n",
    "        #check if the differnece is a prime number\n",
    "        if dif in primes: \n",
    "            #create and return tuple\n",
    "            tuple = primes[index], dif; \n",
    "            return tuple; \n",
    "        index = index + 1; \n",
    "        \n",
    "def factorMe(N):\n",
    "    #initialize variables\n",
    "    index = 0;\n",
    "#    primes = [];\n",
    "    \n",
    "    #get all prime numbers within range of 4 to N\n",
    "#     for num in range(2, N):  \n",
    "#         for i in range(2, num):  \n",
    "#             if (num % i) == 0:  \n",
    "#                 break  \n",
    "#         else:  \n",
    "#             primes.append(num);\n",
    "    primes = [True] * N\n",
    "    for i in range(3,int(N**0.5)+1,2):\n",
    "        if primes[i]:\n",
    "            primes[i*i::2*i]=[False]*((N-i*i-1)//(2*i)+1)\n",
    "    [2] + [i for i in range(3,N,2) if primes[i]];\n",
    "    print(primes);\n",
    "    \n",
    "    while (primes[index]): \n",
    "        #divide current prime from n to get the quotient\n",
    "        print(\"test\");\n",
    "        quo = N / primes[index]; \n",
    "        #check if the quotient is a prime number\n",
    "        if quo in primes: \n",
    "            print(\"test123\");\n",
    "            #create and return tuple\n",
    "            tuple = primes[index], int(quo); \n",
    "            return tuple; \n",
    "        index = index + 1; \n",
    "    \n",
    "def primes(n):\n",
    "    sieve = [True] * n\n",
    "    for i in range(3,int(n**0.5)+1,2):\n",
    "        if sieve[i]:\n",
    "            sieve[i*i::2*i]=[False]*((n-i*i-1)//(2*i)+1)\n",
    "    return [2] + [i for i in range(3,n,2) if sieve[i]]\n",
    "        \n",
    "factorMe(22)\n",
    "primes(22)\n",
    "#goldbachCheck(4)\n"
   ]
  },
  {
   "cell_type": "code",
   "execution_count": null,
   "metadata": {},
   "outputs": [],
   "source": []
  }
 ],
 "metadata": {
  "kernelspec": {
   "display_name": "Python 3",
   "language": "python",
   "name": "python3"
  },
  "language_info": {
   "codemirror_mode": {
    "name": "ipython",
    "version": 3
   },
   "file_extension": ".py",
   "mimetype": "text/x-python",
   "name": "python",
   "nbconvert_exporter": "python",
   "pygments_lexer": "ipython3",
   "version": "3.8.6"
  }
 },
 "nbformat": 4,
 "nbformat_minor": 4
}
