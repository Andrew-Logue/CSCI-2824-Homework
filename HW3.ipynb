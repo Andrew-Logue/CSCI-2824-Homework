{
 "cells": [
  {
   "cell_type": "code",
   "execution_count": 26,
   "metadata": {},
   "outputs": [
    {
     "name": "stdout",
     "output_type": "stream",
     "text": [
      "∀\n"
     ]
    },
    {
     "data": {
      "text/plain": [
       "2722564729"
      ]
     },
     "execution_count": 26,
     "metadata": {},
     "output_type": "execute_result"
    }
   ],
   "source": [
    "# Andrew Logue\n",
    "# CSCI 2824\n",
    "\n",
    "def sequence_slayer(N):\n",
    "    a0 = 1\n",
    "    a1 = 2\n",
    "    if N == 0:\n",
    "        return 1\n",
    "    elif N == 1:\n",
    "        return 2\n",
    "    for i in range(N-1):\n",
    "        aN = (((i+2)**2)*a1)-(a0)\n",
    "        a0 = a1\n",
    "        a1 = aN\n",
    "        \n",
    "    return aN\n",
    "\n",
    "sequence_slayer(8)\n"
   ]
  },
  {
   "cell_type": "code",
   "execution_count": null,
   "metadata": {},
   "outputs": [],
   "source": []
  },
  {
   "cell_type": "code",
   "execution_count": null,
   "metadata": {},
   "outputs": [],
   "source": []
  }
 ],
 "metadata": {
  "kernelspec": {
   "display_name": "Python 3",
   "language": "python",
   "name": "python3"
  },
  "language_info": {
   "codemirror_mode": {
    "name": "ipython",
    "version": 3
   },
   "file_extension": ".py",
   "mimetype": "text/x-python",
   "name": "python",
   "nbconvert_exporter": "python",
   "pygments_lexer": "ipython3",
   "version": "3.8.6"
  }
 },
 "nbformat": 4,
 "nbformat_minor": 4
}
