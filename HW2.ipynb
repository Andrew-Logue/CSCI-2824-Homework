{
 "cells": [
  {
   "cell_type": "code",
   "execution_count": 17,
   "metadata": {},
   "outputs": [
    {
     "name": "stdout",
     "output_type": "stream",
     "text": [
      "∀\n"
     ]
    },
    {
     "data": {
      "text/plain": [
       "'hello ∀ world ∃'"
      ]
     },
     "execution_count": 17,
     "metadata": {},
     "output_type": "execute_result"
    }
   ],
   "source": [
    "# Andrew Logue\n",
    "# CSCI 2824\n",
    "\n",
    "print('\\u2200');\n",
    "\n",
    "def quantifierConverter(s):\n",
    "    finalString = s.replace('for every','\\u2200')\n",
    "    finalString = finalString.replace('there exists','\\u2203')\n",
    "    return finalString\n",
    "\n",
    "\n",
    "\n",
    "quantifierConverter('hello for every world there exists')\n"
   ]
  },
  {
   "cell_type": "code",
   "execution_count": null,
   "metadata": {},
   "outputs": [],
   "source": []
  },
  {
   "cell_type": "code",
   "execution_count": null,
   "metadata": {},
   "outputs": [],
   "source": []
  }
 ],
 "metadata": {
  "kernelspec": {
   "display_name": "Python 3",
   "language": "python",
   "name": "python3"
  },
  "language_info": {
   "codemirror_mode": {
    "name": "ipython",
    "version": 3
   },
   "file_extension": ".py",
   "mimetype": "text/x-python",
   "name": "python",
   "nbconvert_exporter": "python",
   "pygments_lexer": "ipython3",
   "version": "3.8.6"
  }
 },
 "nbformat": 4,
 "nbformat_minor": 4
}
