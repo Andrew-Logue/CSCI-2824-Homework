{
 "cells": [
  {
   "cell_type": "code",
   "execution_count": 12,
   "metadata": {},
   "outputs": [
    {
     "data": {
      "text/plain": [
       "123"
      ]
     },
     "execution_count": 12,
     "metadata": {},
     "output_type": "execute_result"
    }
   ],
   "source": [
    "# Andrew Logue\n",
    "# CSCI 2824\n",
    "\n",
    "def first_D_digit_Lucas(D):\n",
    "    L0 = 2\n",
    "    L1 = 1\n",
    "    LN = 0\n",
    "    if D == 1:\n",
    "        return 2\n",
    "    while len(str(LN)) != D:\n",
    "        LN = L0 + L1\n",
    "        L0 = L1\n",
    "        L1 = LN\n",
    "        \n",
    "    return LN\n",
    "\n",
    "first_D_digit_Lucas(3)\n"
   ]
  },
  {
   "cell_type": "code",
   "execution_count": null,
   "metadata": {},
   "outputs": [],
   "source": []
  },
  {
   "cell_type": "code",
   "execution_count": null,
   "metadata": {},
   "outputs": [],
   "source": []
  }
 ],
 "metadata": {
  "kernelspec": {
   "display_name": "Python 3",
   "language": "python",
   "name": "python3"
  },
  "language_info": {
   "codemirror_mode": {
    "name": "ipython",
    "version": 3
   },
   "file_extension": ".py",
   "mimetype": "text/x-python",
   "name": "python",
   "nbconvert_exporter": "python",
   "pygments_lexer": "ipython3",
   "version": "3.8.6"
  }
 },
 "nbformat": 4,
 "nbformat_minor": 4
}
