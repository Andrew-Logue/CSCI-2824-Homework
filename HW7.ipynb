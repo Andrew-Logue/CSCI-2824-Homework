{
 "cells": [
  {
   "cell_type": "code",
   "execution_count": 9,
   "metadata": {},
   "outputs": [
    {
     "name": "stdout",
     "output_type": "stream",
     "text": [
      "576\n"
     ]
    }
   ],
   "source": [
    "# Andrew Logue\n",
    "# CSCI 2824\n",
    "\n",
    "import math\n",
    "\n",
    "def binomProduct(a,b,n):\n",
    "    # initialize product\n",
    "\tproduct = 1\n",
    "    # loop for n+2 times, calculate expansion by binomial theorem\n",
    "\tfor i in range(0, n+1):\n",
    "        # get combination\n",
    "\t\tcombination = math.factorial(n) / (math.factorial(n-i) * math.factorial(i))\n",
    "        # get powers\n",
    "\t\tpowers = math.pow(a, n-i) * math.pow(b,i)\n",
    "        # multiply the product by the powers and combination each loop\n",
    "\t\tproduct = product * combination * powers\n",
    "\treturn int(product)\n",
    "\n",
    "\n",
    "print(binomProduct(2,-1,3))\n"
   ]
  },
  {
   "cell_type": "code",
   "execution_count": null,
   "metadata": {},
   "outputs": [],
   "source": []
  }
 ],
 "metadata": {
  "kernelspec": {
   "display_name": "Python 3",
   "language": "python",
   "name": "python3"
  },
  "language_info": {
   "codemirror_mode": {
    "name": "ipython",
    "version": 3
   },
   "file_extension": ".py",
   "mimetype": "text/x-python",
   "name": "python",
   "nbconvert_exporter": "python",
   "pygments_lexer": "ipython3",
   "version": "3.8.6"
  }
 },
 "nbformat": 4,
 "nbformat_minor": 4
}
