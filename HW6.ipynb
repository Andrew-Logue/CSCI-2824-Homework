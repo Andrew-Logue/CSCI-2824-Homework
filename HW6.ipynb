{
 "cells": [
  {
   "cell_type": "code",
   "execution_count": 44,
   "metadata": {},
   "outputs": [
    {
     "name": "stdout",
     "output_type": "stream",
     "text": [
      "2<5\n",
      "1<2\n",
      "[1, 2, 5]\n"
     ]
    }
   ],
   "source": [
    "# Andrew Logue\n",
    "# CSCI 2824\n",
    "\n",
    "def mergeSort(arr):\n",
    "    if (len(arr) > 1):\n",
    "        #get midpoint and split array in half, get size of spliot arrays\n",
    "        m = len(arr)//2\n",
    "        L_1 = arr[:m]\n",
    "        S_1 = len(L_1)\n",
    "        L_2 = arr[m:]\n",
    "        S_2 = len(L_2)\n",
    "        \n",
    "        # recursive call mergeSort for both halves of the array arr[]\n",
    "        mergeSort(L_1)\n",
    "        mergeSort(L_2)\n",
    "        \n",
    "        #initialize indexing variables\n",
    "        i = 0\n",
    "        j = 0\n",
    "        x = 0\n",
    "        \n",
    "        #swap and sort values\n",
    "        while i < S_1 and j < S_2:\n",
    "            #compares each value in L_1 and L_2, using the i and j indexs\n",
    "            if L_2[j] > L_1[i]:\n",
    "                print(L_1[i], \"<\", L_2[j], sep='')\n",
    "                #print each comparison performed, in order\n",
    "                arr[x] = L_1[i]\n",
    "                i+=1\n",
    "            else:\n",
    "                print(L_2[j], \"<\", L_1[i], sep='')\n",
    "                arr[x] = L_2[j]\n",
    "                j+=1\n",
    "            x+=1\n",
    "        \n",
    "        #check for left-over elements \n",
    "        while i < S_1:\n",
    "            arr[x] = L_1[i]\n",
    "            i+=1\n",
    "            x+=1\n",
    "            \n",
    "        while j < S_2:\n",
    "            arr[x] = L_2[j]\n",
    "            j+=1\n",
    "            x+=1\n",
    "            \n",
    "    return arr\n",
    "\n",
    "        \n",
    "test = ([1,2,5])\n",
    "mergeSort(test)\n",
    "print(test)\n",
    "\n"
   ]
  },
  {
   "cell_type": "code",
   "execution_count": null,
   "metadata": {},
   "outputs": [],
   "source": []
  }
 ],
 "metadata": {
  "kernelspec": {
   "display_name": "Python 3",
   "language": "python",
   "name": "python3"
  },
  "language_info": {
   "codemirror_mode": {
    "name": "ipython",
    "version": 3
   },
   "file_extension": ".py",
   "mimetype": "text/x-python",
   "name": "python",
   "nbconvert_exporter": "python",
   "pygments_lexer": "ipython3",
   "version": "3.8.6"
  }
 },
 "nbformat": 4,
 "nbformat_minor": 4
}
